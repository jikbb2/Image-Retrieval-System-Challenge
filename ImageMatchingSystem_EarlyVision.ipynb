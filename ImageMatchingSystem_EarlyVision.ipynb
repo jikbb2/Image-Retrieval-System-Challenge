{
  "nbformat": 4,
  "nbformat_minor": 0,
  "metadata": {
    "colab": {
      "provenance": [],
      "gpuType": "T4"
    },
    "kernelspec": {
      "name": "python3",
      "display_name": "Python 3"
    },
    "language_info": {
      "name": "python"
    },
    "accelerator": "GPU"
  },
  "cells": [
    {
      "cell_type": "code",
      "execution_count": null,
      "metadata": {
        "id": "YADZjQrA4FSp"
      },
      "outputs": [],
      "source": [
        "\n",
        "!pip install scikit-image\n",
        "!pip install scikit-learn\n",
        "!pip install opencv-python\n",
        "!pip install opencv-contrib-python\n",
        "!pip install numpy\n",
        "!pip install matplotlib\n",
        "!pip install ultralytics opencv-python\n",
        "!pip install scikit-learn joblib tqdm\n"
      ]
    },
    {
      "cell_type": "code",
      "source": [
        "import os\n",
        "import glob\n",
        "import cv2\n",
        "import torch\n",
        "import numpy as np\n",
        "import pandas as pd\n",
        "import joblib\n",
        "import itertools\n",
        "from matplotlib import pyplot as plt\n",
        "from ultralytics import YOLO\n",
        "from skimage.feature import graycomatrix, graycoprops, local_binary_pattern\n",
        "from scipy.signal import convolve2d\n",
        "from sklearn.model_selection import StratifiedKFold\n",
        "from sklearn.decomposition import PCA\n",
        "from sklearn.neighbors import KNeighborsClassifier\n",
        "from sklearn.ensemble import RandomForestClassifier\n",
        "from sklearn.metrics import accuracy_score, classification_report\n",
        "import warnings\n",
        "from tqdm.notebook import tqdm\n",
        "\n",
        "# 불필요한 경고 메시지는 무시합니다.\n",
        "warnings.filterwarnings('ignore')"
      ],
      "metadata": {
        "id": "omJcr9d6Vtdm"
      },
      "execution_count": null,
      "outputs": []
    },
    {
      "cell_type": "markdown",
      "source": [
        "#### 데이터셋 다운로드\n",
        "학습 및 평가에 사용할 recaptcha-dataset을 GitHub에서 복제하여 가져옵니다."
      ],
      "metadata": {
        "id": "_1C1d3vzV7E7"
      }
    },
    {
      "cell_type": "code",
      "source": [
        "!git clone https://github.com/hbcbh1999/recaptcha-dataset"
      ],
      "metadata": {
        "id": "6a5lrjY3V_5Q"
      },
      "execution_count": null,
      "outputs": []
    },
    {
      "cell_type": "markdown",
      "source": [
        "#### 2.1. 이미지 전처리 유틸리티 함수\n",
        "모든 피처 추출 단계 이전에 공통으로 필요한 이미지 변환(그레이스케일, CLAHE, HSV 변환)을 수행하는 헬퍼 함수를 정의합니다."
      ],
      "metadata": {
        "id": "mpdh5jalVwbs"
      }
    },
    {
      "cell_type": "code",
      "source": [
        "def prepare_image_channels(bgr_image):\n",
        "    gray = cv2.cvtColor(bgr_image, cv2.COLOR_BGR2GRAY)\n",
        "    # CLAHE (Contrast Limited Adaptive Histogram Equalization)를 적용하여 이미지 대비를 향상시킵니다.\n",
        "    clahe = cv2.createCLAHE(clipLimit=2.0, tileGridSize=(8, 8))\n",
        "    gray_clahe = clahe.apply(gray)\n",
        "\n",
        "    hsv = cv2.cvtColor(bgr_image, cv2.COLOR_BGR2HSV)\n",
        "\n",
        "    return {\"gray\": gray, \"gray_clahe\": gray_clahe, \"hsv\": hsv}"
      ],
      "metadata": {
        "id": "dDmI8XrOWOo_"
      },
      "execution_count": null,
      "outputs": []
    },
    {
      "cell_type": "markdown",
      "source": [
        "#### 2.2. 객체 탐지 기반 이미지 크롭 클래스\n",
        "YOLOv8 모델을 사용하여 이미지에서 분석과 관련 없는 배경(clutter)을 제거하고, 오직 핵심 객체(Object of Interest)에만 집중하여 피처의 품질을 극대화합니다."
      ],
      "metadata": {
        "id": "EJICi_LjWK2e"
      }
    },
    {
      "cell_type": "code",
      "source": [
        "class YoloObjectCropper:\n",
        "    \"\"\"YOLO 모델을 사용해 이미지에서 특정 클래스의 객체를 탐지하고 잘라냅니다.\"\"\"\n",
        "    def __init__(self, model_name='yolov8n.pt', margin_ratio=0.1):\n",
        "        self.device = 'cuda' if torch.cuda.is_available() else 'cpu'\n",
        "        self.model = YOLO(model_name).to(self.device)\n",
        "        self.margin_ratio = margin_ratio\n",
        "\n",
        "        # 데이터셋의 클래스 이름과 YOLO 모델의 클래스 이름을 매핑합니다.\n",
        "        # 값이 None이면 해당 클래스는 객체 탐지 없이 원본 이미지를 그대로 사용합니다.\n",
        "        self.class_map = {\n",
        "            'Bicycle': 'bicycle', 'Bridge': None, 'Bus': 'bus', 'Car': 'car',\n",
        "            'Chimney': None, 'Crosswalk': None, 'Hydrant': 'fire hydrant',\n",
        "            'Motorcycle': 'motorcycle', 'Palm': 'potted plant', 'Traffic Light': 'traffic light'\n",
        "        }\n",
        "\n",
        "    def crop_object(self, image_path, expected_class_name):\n",
        "        try:\n",
        "            image = cv2.imread(image_path)\n",
        "            if image is None: return None\n",
        "            h, w, _ = image.shape\n",
        "        except Exception:\n",
        "            return None\n",
        "\n",
        "        yolo_class_name = self.class_map.get(expected_class_name)\n",
        "        # YOLO 클래스 맵에 없는 경우 원본 이미지 반환\n",
        "        if yolo_class_name is None:\n",
        "            return image\n",
        "\n",
        "        results = self.model(image, verbose=False)\n",
        "        best_box, max_conf = None, 0.0\n",
        "\n",
        "        # 탐지된 여러 객체 중, 신뢰도(confidence)가 가장 높은 객체를 선택\n",
        "        for box in results[0].boxes:\n",
        "            d_cls_name = self.model.names[int(box.cls[0])]\n",
        "            if d_cls_name == yolo_class_name and float(box.conf[0]) > max_conf:\n",
        "                max_conf, best_box = float(box.conf[0]), box.xyxy[0].cpu().numpy()\n",
        "\n",
        "        if best_box is not None:\n",
        "            x1, y1, x2, y2 = map(int, best_box)\n",
        "            # 객체 주변에 여백(margin)을 추가하여 정보 손실을 최소화\n",
        "            mw, mh = int((x2 - x1) * self.margin_ratio), int((y2 - y1) * self.margin_ratio)\n",
        "            return image[max(0, y1 - mh):min(h, y2 + mh), max(0, x1 - mw):min(w, x2 + mw)]\n",
        "\n",
        "        return image # 객체를 찾지 못하면 원본 이미지 반환"
      ],
      "metadata": {
        "id": "2Al0beMmWWbb"
      },
      "execution_count": null,
      "outputs": []
    },
    {
      "cell_type": "markdown",
      "source": [
        "#### 2.3. 종합적인 이미지 피처 추출 클래스\n",
        "##### 2.3.1. Simultaneous extraction of individual features\n",
        "- 키포인트 기반: AKAZE, SIFT\n",
        "- 형태 기반: HOG\n",
        "- 텍스처 기반: GLCM 통계량, Law's Texture Energy\n",
        "- 색상 기반: HSV 색 공간에서의 Color Histogram\n",
        "\n",
        "##### 2.3.2. Concatenation\n",
        "모든 개별 Feature vector 를 하나의 긴 vector로 연결합니다."
      ],
      "metadata": {
        "id": "LJMGkQQ4WXdU"
      }
    },
    {
      "cell_type": "code",
      "source": [
        "class ComprehensiveFeatureExtractor:\n",
        "    \"\"\"SIFT, AKAZE, HOG, Color, LBP, GLCM, Law's Texture 등 다양한 피처를 종합적으로 추출합니다.\"\"\"\n",
        "    def __init__(self, hog_win_size=(64, 128), lbp_radius=3, lbp_points=24):\n",
        "        # SIFT, AKAZE는 디스크립터 크기가 고정되어 있으므로 미리 정의합니다.\n",
        "        self.sift = cv2.SIFT_create()\n",
        "        self.sift_desc_size = 128\n",
        "        self.akaze = cv2.AKAZE_create()\n",
        "        self.akaze_desc_size = 61\n",
        "\n",
        "        self.hog_win_size = hog_win_size\n",
        "        self.hog = cv2.HOGDescriptor(hog_win_size, (16,16), (8,8), (8,8), 9)\n",
        "        self.lbp_radius, self.lbp_points = lbp_radius, lbp_points\n",
        "\n",
        "    def _extract_keypoint_descriptors(self, gray_image, extractor, desc_size):\n",
        "        \"\"\"키포인트 디스크립터를 추출하고, 이미지 전체를 대표하는 하나의 평균 벡터로 변환합니다.\"\"\"\n",
        "        _, descs = extractor.detectAndCompute(gray_image, None)\n",
        "        # 키포인트가 없는 경우 0벡터 반환\n",
        "        if descs is None:\n",
        "            return np.zeros(desc_size)\n",
        "        return np.mean(descs, axis=0)\n",
        "\n",
        "    def _extract_hog(self, gray):\n",
        "        resized_gray = cv2.resize(gray, self.hog_win_size)\n",
        "        return self.hog.compute(resized_gray).flatten()\n",
        "\n",
        "    def _extract_color_histogram(self, hsv, bins=(8,12,3)):\n",
        "        hist = cv2.calcHist([hsv], [0, 1, 2], None, bins, [0, 180, 0, 256, 0, 256]).flatten()\n",
        "        # L1 정규화\n",
        "        return hist / np.sum(hist) if np.sum(hist) > 0 else hist\n",
        "\n",
        "    def _extract_lbp(self, gray):\n",
        "        lbp = local_binary_pattern(gray, self.lbp_points, self.lbp_radius, 'uniform')\n",
        "        hist, _ = np.histogram(lbp.ravel(), bins=np.arange(0, self.lbp_points + 3), range=(0, self.lbp_points + 2))\n",
        "        return hist.astype(\"f\") / hist.sum() if hist.sum() > 0 else hist\n",
        "\n",
        "    def _extract_glcm(self, gray):\n",
        "        glcm = graycomatrix(gray, [1, 3, 5], [0, np.pi/4, np.pi/2, 3*np.pi/4], 256, symmetric=True, normed=True)\n",
        "        props = ['contrast', 'dissimilarity', 'homogeneity', 'energy', 'correlation']\n",
        "        return np.hstack([graycoprops(glcm, p_name).flatten() for p_name in props])\n",
        "\n",
        "    def _extract_laws_texture(self, gray):\n",
        "        \"\"\"Law's Texture Energy 마스크를 적용하여 텍스처 에너지를 측정합니다.\"\"\"\n",
        "        v = np.array\n",
        "        # 1D 필터 커널 정의: L(Level), E(Edge), S(Spot), W(Wave), R(Ripple)\n",
        "        L, E, S, W, R = v([1,4,6,4,1]), v([-1,-2,0,2,1]), v([-1,0,2,0,-1]), v([-1,2,0,-2,1]), v([1,-4,6,-4,1])\n",
        "        kernels = {'L5':L,'E5':E,'S5':S,'W5':W,'R5':R}\n",
        "        # 1D 커널들을 외적(outer product)하여 2D 컨볼루션 마스크 9개를 생성\n",
        "        masks = [np.outer(v1,v2) for i,(n1,v1) in enumerate(kernels.items()) for n2,v2 in list(kernels.items())[i:]][:9]\n",
        "\n",
        "        norm_gray = gray.astype(np.float32) - convolve2d(gray, np.ones((5,5))/25, 'same', 'symm')\n",
        "        # 각 마스크를 적용한 후 에너지(절대값의 평균)를 계산하여 피처 벡터 생성\n",
        "        return v([np.mean(np.abs(convolve2d(norm_gray, m, 'same', 'symm'))) for m in masks])\n",
        "\n",
        "    def extract_all(self, preprocessed_images):\n",
        "        \"\"\"정의된 모든 피처 추출 기법을 순차적으로 적용하고 하나의 벡터로 결합합니다.\"\"\"\n",
        "        v_sift = self._extract_keypoint_descriptors(preprocessed_images[\"gray_clahe\"], self.sift, self.sift_desc_size)\n",
        "        v_akaze = self._extract_keypoint_descriptors(preprocessed_images[\"gray_clahe\"], self.akaze, self.akaze_desc_size)\n",
        "        v_hog = self._extract_hog(preprocessed_images[\"gray_clahe\"])\n",
        "        v_color = self._extract_color_histogram(preprocessed_images[\"hsv\"])\n",
        "        v_lbp = self._extract_lbp(preprocessed_images[\"gray\"])\n",
        "        v_glcm = self._extract_glcm(preprocessed_images[\"gray\"])\n",
        "        v_law = self._extract_laws_texture(preprocessed_images[\"gray\"])\n",
        "\n",
        "        return np.hstack([v_sift, v_akaze, v_hog, v_color, v_lbp, v_glcm, v_law])"
      ],
      "metadata": {
        "id": "ranO3QSZYcyE"
      },
      "execution_count": null,
      "outputs": []
    },
    {
      "cell_type": "markdown",
      "source": [
        "#### 2.4. 소프트 보팅(Soft Voting) 앙상블 분류기\n",
        "여러 개의 KNN 모델(각각 다른 피처셋으로 학습)의 예측 확률을 종합하여 최종 클래스를 결정하는 앙상블 모델입니다."
      ],
      "metadata": {
        "id": "6Orz7YS-lU0H"
      }
    },
    {
      "cell_type": "code",
      "source": [
        "class KnnSoftVotingClassifier:\n",
        "    \"\"\"여러 KNN 모델의 예측 확률을 평균 내어 최종 예측을 수행하는 Soft Voting 앙상블 모델입니다.\"\"\"\n",
        "    def __init__(self, n_neighbors=10):\n",
        "        self.feature_names = []\n",
        "        self.models = {}\n",
        "        self.classes_ = None\n",
        "        self.n_neighbors = n_neighbors\n",
        "\n",
        "    def fit(self, feature_sets, labels):\n",
        "        \"\"\"피처셋별로 별도의 KNN 모델을 학습시킵니다.\"\"\"\n",
        "        self.feature_names = list(feature_sets.keys())\n",
        "        self.classes_ = np.unique(labels)\n",
        "\n",
        "        for name in self.feature_names:\n",
        "            # `weights='distance'`는 예측 시 가까운 이웃에 더 큰 가중치를 부여합니다.\n",
        "            knn = KNeighborsClassifier(n_neighbors=self.n_neighbors, weights='distance', n_jobs=-1)\n",
        "            knn.fit(feature_sets[name], labels)\n",
        "            self.models[name] = knn\n",
        "        return self\n",
        "\n",
        "    def predict_proba(self, query_features_dict):\n",
        "        \"\"\"모든 개별 모델의 예측 확률을 합산하고 정규화합니다.\"\"\"\n",
        "        num_samples = list(query_features_dict.values())[0].shape[0]\n",
        "        total_probas = np.zeros((num_samples, len(self.classes_)))\n",
        "\n",
        "        for name in self.feature_names:\n",
        "            model = self.models[name]\n",
        "            probas = model.predict_proba(query_features_dict[name])\n",
        "\n",
        "            # 모델마다 클래스 순서가 다를 수 있으므로, 전체 클래스 배열 기준으로 확률을 더함\n",
        "            for i, cls in enumerate(model.classes_):\n",
        "                class_idx = np.where(self.classes_ == cls)[0][0]\n",
        "                total_probas[:, class_idx] += probas[:, i]\n",
        "\n",
        "        # 모든 확률의 합이 1이 되도록 정규화\n",
        "        row_sums = total_probas.sum(axis=1, keepdims=True)\n",
        "        safe_row_sums = np.where(row_sums == 0, 1, row_sums)\n",
        "        return total_probas / safe_row_sums\n",
        "\n",
        "    def predict(self, query_features_dict):\n",
        "        \"\"\"가장 높은 최종 확률을 가진 클래스를 예측 결과로 반환합니다.\"\"\"\n",
        "        final_probas = self.predict_proba(query_features_dict)\n",
        "        best_class_indices = np.argmax(final_probas, axis=1)\n",
        "        return self.classes_[best_class_indices]"
      ],
      "metadata": {
        "id": "Jl5cWYiUlW4Z"
      },
      "execution_count": 1,
      "outputs": []
    },
    {
      "cell_type": "markdown",
      "source": [
        "#### 3.1. 피처 데이터베이스 구축\n",
        "전체 이미지 데이터셋에 대해 `YoloObjectCropper`와 `ComprehensiveFeatureExtractor`를 순차적으로 적용하여, 모든 이미지로부터 고차원 피처 벡터를 추출하고 파일로 저장합니다."
      ],
      "metadata": {
        "id": "xlwEP5TZlhqw"
      }
    },
    {
      "cell_type": "code",
      "source": [
        "def build_feature_database(dataset_path='./recaptcha-dataset/Large'):\n",
        "    \"\"\"데이터셋의 모든 이미지에서 피처를 추출하여 원본 피처 데이터베이스를 구축합니다.\"\"\"\n",
        "\n",
        "    cropper = YoloObjectCropper()\n",
        "    feature_extractor = ComprehensiveFeatureExtractor()\n",
        "    target_labels = ['Bicycle', 'Bridge', 'Bus', 'Car', 'Chimney', 'Crosswalk',\n",
        "                     'Hydrant', 'Motorcycle', 'Palm', 'Traffic Light']\n",
        "\n",
        "    image_paths = []\n",
        "    for label in target_labels:\n",
        "        class_dir = os.path.join(dataset_path, label)\n",
        "        if os.path.isdir(class_dir):\n",
        "            image_paths.extend(glob.glob(os.path.join(class_dir, '*.png')))\n",
        "\n",
        "    if not image_paths:\n",
        "        print(f\"오류: '{dataset_path}' 경로에서 타겟 클래스 이미지를 찾을 수 없습니다.\")\n",
        "        return\n",
        "\n",
        "    all_raw_features, all_labels = [], []\n",
        "    print(f\"총 {len(image_paths)}개의 이미지에 대해 피처 추출을 시작합니다.\")\n",
        "\n",
        "    # 첫 이미지의 피처 길이를 기준으로 모든 피처의 길이를 통일\n",
        "    expected_len = -1\n",
        "    for img_path in tqdm(image_paths, desc=\"피처 데이터베이스 구축 중\"):\n",
        "        try:\n",
        "            label = os.path.basename(os.path.dirname(img_path))\n",
        "\n",
        "            # 1. 객체 영역 크롭\n",
        "            cropped_image = cropper.crop_object(img_path, label)\n",
        "            if cropped_image is None or cropped_image.shape[0] < 32 or cropped_image.shape[1] < 32:\n",
        "                continue\n",
        "\n",
        "            # 2. 이미지 채널 준비 및 피처 추출\n",
        "            preprocessed_images = prepare_image_channels(cropped_image)\n",
        "            raw_feature_vector = feature_extractor.extract_all(preprocessed_images)\n",
        "\n",
        "            if expected_len == -1:\n",
        "                expected_len = len(raw_feature_vector)\n",
        "            if len(raw_feature_vector) != expected_len:\n",
        "                # 피처 벡터 길이가 다른 경우, 해당 이미지는 건너뜀\n",
        "                tqdm.write(f\"CRITICAL ERROR: {img_path} 벡터 길이 불일치. 건너뜁니다.\")\n",
        "                continue\n",
        "\n",
        "            all_raw_features.append(raw_feature_vector)\n",
        "            all_labels.append(label)\n",
        "        except Exception as e:\n",
        "            tqdm.write(f\"Error: {img_path} 처리 중 예외 발생 - {e}\")\n",
        "\n",
        "    X_raw, y = np.array(all_raw_features), np.array(all_labels)\n",
        "    if X_raw.size == 0:\n",
        "        print(\"오류: 피처 추출에 성공한 이미지가 없습니다.\")\n",
        "        return\n",
        "\n",
        "    print(f\"피처 추출 완료. 추출된 고차원 피처의 형태: {X_raw.shape}\")\n",
        "\n",
        "    # RandomForest를 사용한 피처 중요도 계산 및 상위 피처 선택\n",
        "    # 여기서는 모든 피처를 그대로 사용하지만, 중요도 기반 선택 로직을 추가할 수 있습니다.\n",
        "    selector = RandomForestClassifier(n_estimators=100, random_state=42, n_jobs=-1).fit(X_raw, y)\n",
        "\n",
        "    # 결과 저장\n",
        "    np.save('all_raw_features.npy', X_raw)\n",
        "    np.save('all_labels.npy', y)\n",
        "    joblib.dump(selector, 'feature_importance_model.pkl') # 피처 중요도 모델 저장\n",
        "    print(\"피처 데이터베이스 및 중요도 모델 저장이 완료되었습니다.\")\n",
        "\n",
        "# 함수 실행\n",
        "build_feature_database()"
      ],
      "metadata": {
        "id": "h-IB-q3CllWL"
      },
      "execution_count": null,
      "outputs": []
    },
    {
      "cell_type": "code",
      "source": [
        "def evaluate_final_model(test_dataset_path='./recaptcha-dataset/Large/'):\n",
        "    \"\"\"저장된 최종 모델들을 불러와 테스트 데이터에 대한 성능을 평가합니다.\"\"\"\n",
        "    try:\n",
        "        final_ensemble_model = joblib.load('final_ensemble_model.pkl')\n",
        "        final_pca_models = joblib.load('ensemble_pca_models.pkl')\n",
        "    except FileNotFoundError as e:\n",
        "        print(f\"오류: 모델 파일을 찾을 수 없습니다 - {e}\"); return\n",
        "\n",
        "    # 피처 그룹별 인덱스 정보 (튜닝 단계와 동일하게 사용)\n",
        "    feature_indices = {\n",
        "        'keypoint': (0, 189), 'shape': (189, 4000), # shape, texture, color 인덱스 재정의 필요\n",
        "        'texture': (4000, 4000+26+60+9),\n",
        "        'color': (4000+26+60+9, None)\n",
        "    }\n",
        "\n",
        "    target_labels = final_ensemble_model.classes_\n",
        "    query_image_paths = []\n",
        "    for label in target_labels:\n",
        "        image_dir = os.path.join(test_dataset_path, label)\n",
        "        if os.path.isdir(image_dir):\n",
        "            # 각 클래스별로 10개씩의 이미지를 테스트셋으로 사용\n",
        "            query_image_paths.extend([os.path.join(image_dir, name) for name in sorted(os.listdir(image_dir))[10:20]])\n",
        "\n",
        "    task1_results, true_labels = [], []\n",
        "    cropper = YoloObjectCropper()\n",
        "    feature_extractor = ComprehensiveFeatureExtractor()\n",
        "\n",
        "    print(f\"최종 앙상블 모델 평가: 총 {len(query_image_paths)}개 쿼리 이미지 평가 시작...\")\n",
        "    for img_path in tqdm(query_image_paths, desc=\"최종 모델 평가 진행 중\"):\n",
        "        true_label = os.path.basename(os.path.dirname(img_path))\n",
        "\n",
        "        cropped_image = cropper.crop_object(img_path, true_label)\n",
        "        if cropped_image is None: continue\n",
        "\n",
        "        preprocessed_images = prepare_image_channels(cropped_image)\n",
        "        # 평가 시에는 피처 인덱스를 다시 계산해야 하므로, 임시로 전체 피처를 사용합니다.\n",
        "        # 실제로는 build_feature_database에서 사용한 피처와 동일한 shape이어야 함\n",
        "        query_raw_feature = feature_extractor.extract_all(preprocessed_images)\n",
        "\n",
        "        # 쿼리 피처셋 분리 및 PCA 변환\n",
        "        query_features_dict = {}\n",
        "        # NOTE: 이 부분은 저장된 X_raw의 shape을 기준으로 인덱스를 재계산해야 가장 정확합니다.\n",
        "        # 아래는 예시 인덱스입니다.\n",
        "        X_raw_shape_1 = 4352 # build_feature_database의 결과 shape\n",
        "        feature_indices = {\n",
        "            'keypoint': (0, 189), 'shape': (189, 189 + 3780),\n",
        "            'texture': (189 + 3780, 189 + 3780 + 26 + 60 + 9),\n",
        "            'color': (189 + 3780 + 26 + 60 + 9, X_raw_shape_1)\n",
        "        }\n",
        "\n",
        "        for name, (start, end) in feature_indices.items():\n",
        "            feature_subset = query_raw_feature[start:end]\n",
        "            feature_2d = feature_subset.reshape(1, -1)\n",
        "            if name in final_pca_models:\n",
        "                query_features_dict[name] = final_pca_models[name].transform(feature_2d)\n",
        "            else:\n",
        "                query_features_dict[name] = feature_2d\n",
        "\n",
        "        final_prediction = final_ensemble_model.predict(query_features_dict)[0]\n",
        "        task1_results.append([os.path.basename(img_path), final_prediction])\n",
        "        true_labels.append(true_label)\n",
        "\n",
        "    task1_predictions = [row[1] for row in task1_results]\n",
        "    print(\"\\n--- 최종 모델(Ultimate Ensemble) 성능 평가 보고서 ---\")\n",
        "    print(classification_report(true_labels, task1_predictions, labels=target_labels))\n",
        "\n",
        "    pd.DataFrame(task1_results, columns=['Image', 'Predicted_Label']).to_csv('c1_t1_a1_predictions.csv', index=False)\n",
        "    print(\"평가 결과가 'c1_t1_a1_predictions.csv' 파일로 저장되었습니다.\")\n",
        "\n",
        "# 함수 실행\n",
        "evaluate_final_model()"
      ],
      "metadata": {
        "id": "IX2Zwm5XlqMF"
      },
      "execution_count": null,
      "outputs": []
    }
  ]
}